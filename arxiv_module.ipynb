{
 "cells": [
  {
   "cell_type": "code",
   "execution_count": 2,
   "metadata": {},
   "outputs": [],
   "source": [
    "import certifi\n",
    "import os\n",
    "os.environ['SSL_CERT_FILE'] = certifi.where()"
   ]
  },
  {
   "cell_type": "code",
   "execution_count": 9,
   "metadata": {},
   "outputs": [
    {
     "name": "stdout",
     "output_type": "stream",
     "text": [
      "Crosscap Quenches and Entanglement Evolution\n",
      "[arxiv.Result.Author('Zixia Wei'), arxiv.Result.Author('Yasushi Yoneta')]\n",
      "None\n",
      "Lattice T-duality from non-invertible symmetries in quantum spin chains\n",
      "[arxiv.Result.Author('Salvatore D. Pace'), arxiv.Result.Author('Arkya Chatterjee'), arxiv.Result.Author('Shu-Heng Shao')]\n",
      "None\n",
      "Probing Entanglement Scaling Across a Quantum Phase Transition on a Quantum Computer\n",
      "[arxiv.Result.Author('Qiang Miao'), arxiv.Result.Author('Tianyi Wang'), arxiv.Result.Author('Kenneth R. Brown'), arxiv.Result.Author('Thomas Barthel'), arxiv.Result.Author('Marko Cetina')]\n",
      "None\n",
      "Uniform Additivity of Tripartite Optimized Correlation Measures\n",
      "[arxiv.Result.Author('Joshua Levin'), arxiv.Result.Author('Ariel Shlosberg'), arxiv.Result.Author('Vikesh Siddhu'), arxiv.Result.Author('Graeme Smith')]\n",
      "None\n",
      "Randomized Benchmarking with Synthetic Quantum Circuits\n",
      "[arxiv.Result.Author('Yale Fan'), arxiv.Result.Author('Riley Murray'), arxiv.Result.Author('Thaddeus D. Ladd'), arxiv.Result.Author('Kevin Young'), arxiv.Result.Author('Robin Blume-Kohout')]\n",
      "None\n",
      "Scalable Quantum-Inspired Optimization through Dynamic Qubit Compression\n",
      "[arxiv.Result.Author('Co Tran'), arxiv.Result.Author('Quoc-Bao Tran'), arxiv.Result.Author('Hy Truong Son'), arxiv.Result.Author('Thang N Dinh')]\n",
      "None\n",
      "A new way to prove configuration reducibility using gauge theory\n",
      "[arxiv.Result.Author('Scott Baldridge'), arxiv.Result.Author('Ben McCarty')]\n",
      "None\n",
      "Extendible quantum measurements and limitations on classical communication\n",
      "[arxiv.Result.Author('Vishal Singh'), arxiv.Result.Author('Theshani Nuradha'), arxiv.Result.Author('Mark M. Wilde')]\n",
      "None\n",
      "Advancing Surface Chemistry with Large-Scale Ab-Initio Quantum Many-Body Simulations\n",
      "[arxiv.Result.Author('Zigeng Huang'), arxiv.Result.Author('Zhen Guo'), arxiv.Result.Author('Changsu Cao'), arxiv.Result.Author('Hung Q. Pham'), arxiv.Result.Author('Xuelan Wen'), arxiv.Result.Author('George H. Booth'), arxiv.Result.Author('Ji Chen'), arxiv.Result.Author('Dingshun Lv')]\n",
      "None\n",
      "Flowery Horizons & Bulk Observers: $sl^{(q)}(2,\\mathbb{R})$ Drive in $2d$ Holographic CFT\n",
      "[arxiv.Result.Author('Jayashish Das'), arxiv.Result.Author('Arnab Kundu')]\n",
      "None\n"
     ]
    }
   ],
   "source": [
    "import arxiv\n",
    "\n",
    "# Construct the default API client.\n",
    "client = arxiv.Client()\n",
    "\n",
    "# Search for the 10 most recent articles matching the keyword \"quantum.\"\n",
    "search = arxiv.Search(\n",
    "  query = \"quantum\",\n",
    "  max_results = 10,\n",
    "  sort_by = arxiv.SortCriterion.SubmittedDate\n",
    ")\n",
    "\n",
    "results = client.results(search)\n",
    "\n",
    "# `results` is a generator; you can iterate over its elements one by one...\n",
    "for r in client.results(search):\n",
    "  print(r.title)\n",
    "  print(r.authors)\n",
    "  print(r.journal_ref)"
   ]
  }
 ],
 "metadata": {
  "kernelspec": {
   "display_name": "Python 3",
   "language": "python",
   "name": "python3"
  },
  "language_info": {
   "codemirror_mode": {
    "name": "ipython",
    "version": 3
   },
   "file_extension": ".py",
   "mimetype": "text/x-python",
   "name": "python",
   "nbconvert_exporter": "python",
   "pygments_lexer": "ipython3",
   "version": "3.11.5"
  }
 },
 "nbformat": 4,
 "nbformat_minor": 2
}
