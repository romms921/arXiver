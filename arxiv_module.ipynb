{
 "cells": [
  {
   "cell_type": "code",
   "execution_count": 1,
   "metadata": {},
   "outputs": [],
   "source": [
    "import certifi\n",
    "import os\n",
    "os.environ['SSL_CERT_FILE'] = certifi.where()"
   ]
  },
  {
   "cell_type": "code",
   "execution_count": 3,
   "metadata": {},
   "outputs": [
    {
     "name": "stdout",
     "output_type": "stream",
     "text": [
      "Holographic observers for time-band algebras\n",
      "[arxiv.Result.Author('Kristan Jensen'), arxiv.Result.Author('Suvrat Raju'), arxiv.Result.Author('Antony J. Speranza')]\n",
      "None\n",
      "Enhanced Two-Way Teleportation of Entangled States with Six-Qubit Cluster State\n",
      "[arxiv.Result.Author('Vedhanayagi R'), arxiv.Result.Author('Soubhik De'), arxiv.Result.Author('Basherrudin Mahmud Ahmed A'), arxiv.Result.Author('Alok Sharan')]\n",
      "None\n",
      "Quantum algorithms for the simulation of QCD processes in the perturbative regime\n",
      "[arxiv.Result.Author('Herschel A. Chawdhry'), arxiv.Result.Author('Mathieu Pellen')]\n",
      "None\n",
      "Quantum Error Correction near the Coding Theoretical Bound\n",
      "[arxiv.Result.Author('Daiki Komoto'), arxiv.Result.Author('Kenta Kasai')]\n",
      "None\n",
      "Causality and Stability from Acoustic Geometry\n",
      "[arxiv.Result.Author('Ignacy Sawicki'), arxiv.Result.Author('Georg Trenkler'), arxiv.Result.Author('Alexander Vikman')]\n",
      "None\n",
      "Junction conditions for higher order gravity theories from a Gibbons-Hawking-York boundary term\n",
      "[arxiv.Result.Author('Marcos A. Ramirez'), arxiv.Result.Author('Cristián Martínez')]\n",
      "None\n",
      "Cavity-QED Simulation of a Maser beyond the Mean-Field Approximation\n",
      "[arxiv.Result.Author('Xinpeng Shu'), arxiv.Result.Author('Yining Jiang'), arxiv.Result.Author('Hao Wu'), arxiv.Result.Author('Mark Oxborrow')]\n",
      "None\n",
      "Quantum uncertainty in the area of a black hole\n",
      "[arxiv.Result.Author('Maulik Parikh'), arxiv.Result.Author('Jude Pereira')]\n",
      "None\n",
      "Measuring Quantum Discord at the LHC\n",
      "[arxiv.Result.Author('Tao Han'), arxiv.Result.Author('Matthew Low'), arxiv.Result.Author('Navin McGinnis'), arxiv.Result.Author('Shufang Su')]\n",
      "None\n",
      "Accidental Peccei-Quinn Symmetry From Gauged U(1) and a High Quality Axion\n",
      "[arxiv.Result.Author('K. S. Babu'), arxiv.Result.Author('Bhaskar Dutta'), arxiv.Result.Author('Rabindra N. Mohapatra')]\n",
      "None\n"
     ]
    }
   ],
   "source": [
    "import arxiv\n",
    "\n",
    "# Construct the default API client.\n",
    "client = arxiv.Client()\n",
    "\n",
    "# Search for the 10 most recent articles matching the keyword \"quantum.\"\n",
    "search = arxiv.Search(\n",
    "  query = \"quantum\",\n",
    "  max_results = 10,\n",
    "  sort_by = arxiv.SortCriterion.SubmittedDate\n",
    ")\n",
    "\n",
    "results = client.results(search)\n",
    "\n",
    "# `results` is a generator; you can iterate over its elements one by one...\n",
    "for r in client.results(search):\n",
    "  print(r.title)\n",
    "  print(r.authors)\n",
    "  print(r.journal_ref)"
   ]
  },
  {
   "cell_type": "code",
   "execution_count": null,
   "metadata": {},
   "outputs": [],
   "source": []
  }
 ],
 "metadata": {
  "kernelspec": {
   "display_name": "Python 3",
   "language": "python",
   "name": "python3"
  },
  "language_info": {
   "codemirror_mode": {
    "name": "ipython",
    "version": 3
   },
   "file_extension": ".py",
   "mimetype": "text/x-python",
   "name": "python",
   "nbconvert_exporter": "python",
   "pygments_lexer": "ipython3",
   "version": "3.9.12"
  }
 },
 "nbformat": 4,
 "nbformat_minor": 2
}
