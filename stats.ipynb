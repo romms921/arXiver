{
 "cells": [
  {
   "cell_type": "code",
   "execution_count": 7,
   "metadata": {},
   "outputs": [],
   "source": [
    "import pandas as pd \n",
    "import numpy as np\n",
    "from collections import Counter"
   ]
  },
  {
   "cell_type": "code",
   "execution_count": 16,
   "metadata": {},
   "outputs": [],
   "source": [
    "data = pd.read_csv('astro-ph.csv')"
   ]
  },
  {
   "cell_type": "code",
   "execution_count": 9,
   "metadata": {},
   "outputs": [
    {
     "name": "stdout",
     "output_type": "stream",
     "text": [
      "The most repeated author is Guanqun Song and they were repeated 2 times.\n"
     ]
    }
   ],
   "source": [
    "authors = data['authors'].tolist()\n",
    "# Flatten the list of authors and count occurrences\n",
    "all_authors = [author for sublist in authors for author in sublist.split(', ')]\n",
    "author_counts = Counter(all_authors)\n",
    "\n",
    "# Find the most common author\n",
    "most_common_author, count = author_counts.most_common(1)[0]\n",
    "print(f\"The most repeated author is {most_common_author} and they were repeated {count} times.\")"
   ]
  },
  {
   "cell_type": "code",
   "execution_count": 10,
   "metadata": {},
   "outputs": [
    {
     "name": "stdout",
     "output_type": "stream",
     "text": [
      "The most repeated category is cs.CV and it was repeated 11 times.\n"
     ]
    }
   ],
   "source": [
    "categories = data['category'].tolist()\n",
    "\n",
    "# Flatten the list of categories and count occurrences\n",
    "all_categories = [category for sublist in categories for category in sublist.split(', ')]\n",
    "category_counts = Counter(all_categories)\n",
    "\n",
    "# Find the most common category\n",
    "most_common_category, count = category_counts.most_common(1)[0]\n",
    "print(f\"The most repeated category is {most_common_category} and it was repeated {count} times.\")"
   ]
  },
  {
   "cell_type": "code",
   "execution_count": 12,
   "metadata": {},
   "outputs": [
    {
     "name": "stdout",
     "output_type": "stream",
     "text": [
      "['Sequences D-Algebraic Computing', 'slow perception geometric figures', 'Emotion', 'Learning', 'LLM', 'Graph Neural Networks IoT Advances Challenges', 'generative pre-training', 'network traffic', 'dynamics', 'Knowledge Neural', 'Sequential Policy Value Softer Surrogates', 'Large Language Models', 'Synthetic Data', 'Differential Privacy', 'uncertainty herding active learning', 'Object Detection', 'Open-World', 'Efficient', 'Visual representation text-based person searching', 'diffusion models medical image synthesis', 'Cognitive Load', 'Human Trust', 'Collaboration', 'I/O Device Obsolescence Environmental Economic Impact', 'Class Imbalance', 'GNN Learning', 'Whole-Body Grasping Synthesis Diffusion Model', 'Nanosatellite', 'Propellant Sloshing', 'Design', 'LoRaWAN Satellite Energy Efficient', 'Table recognition', 'Vision LLMs', 'Benchmark', 'Multi-Modal Remote', 'Recurrence Vanishing Point', 'Managed Lanes Tolling CAVs', 'Prototypical Distillation Debiased Tuning', 'Rumor Detection', 'Fairness', 'Unfairness', 'Blockchain Cyber-Secure Federated', 'ICNN', 'LSTM', 'Attitude', 'MHA', 'Attention-Driven Metapath Encoding Heterogeneous Graphs', 'Convex Optimization', 'Neural Architectures', 'Connected Vehicles', 'Adaptive Control', 'Residual Learning', 'Pre-trained Vision-Language Models Ranking Downstream', 'MarsSQE', 'Bi-level', 'Attention', 'electric vehicle battery recycling innovations power', 'Autonomous Vehicle Technology', \"agent-based migration Conway's Game\", 'Test adequacy metamorphic testing criteria measurement implication', 'Evolution', 'Uncertainty', 'Heuristic', 'Motion Capture', 'Coordinated', 'Outdoor Environments', 'inverse scattering', 'random sources', 'time domain', 'Collaborative Robots', 'Fire Rescue', 'dice rolling', 'Open-set Known Class', 'Restricted Inverse Optimal Value Problem', 'HFI', 'watermarking', 'diffusion model', 'Keywords: Speech Emotion', 'Residual Integration', 'Co-Attention', 'ResUnet Residual Connection Medical Image', 'Selfish Machines Load', 'Inverse medium problems saddle point formulation', 'Spiking Neural Networks Intracortical Brain Signal Decoding', 'Vision-Language Model Summarization']\n",
      "The most repeated keyword is Sequences D-Algebraic Computing and it was repeated 1 times.\n"
     ]
    }
   ],
   "source": [
    "keywords = data['keywords'].tolist()\n",
    "\n",
    "# Flatten the list of keywords and count occurrences\n",
    "all_keywords = [keyword for sublist in keywords for keyword in sublist.split(', ')]\n",
    "keyword_counts = Counter(all_keywords)\n",
    "\n",
    "print(all_keywords)\n",
    "\n",
    "# Find the most common keyword\n",
    "most_common_keyword, count = keyword_counts.most_common(1)[0]\n",
    "print(f\"The most repeated keyword is {most_common_keyword} and it was repeated {count} times.\")"
   ]
  },
  {
   "cell_type": "code",
   "execution_count": 13,
   "metadata": {},
   "outputs": [],
   "source": [
    "import csv\n",
    "\n",
    "# Save all_keywords to a CSV file\n",
    "with open('all_keywords.csv', 'w', newline='') as file:\n",
    "    writer = csv.writer(file)\n",
    "    writer.writerow(['Keyword'])\n",
    "    for keyword in all_keywords:\n",
    "        writer.writerow([keyword])"
   ]
  },
  {
   "cell_type": "code",
   "execution_count": 17,
   "metadata": {},
   "outputs": [
    {
     "name": "stdout",
     "output_type": "stream",
     "text": [
      "The most repeated affiliation is  and it was repeated 1 times.\n"
     ]
    }
   ],
   "source": [
    "affiliations = data['affiliation'].tolist()\n",
    "affiliations = [affiliation.replace(\"['\", \"\").replace(\"']\", \"\").replace(\"', '\", \", \").replace(\"'\", \"\").strip() for affiliation in affiliations if isinstance(affiliation, str)]\n",
    "\n",
    "# Flatten the list of affiliations and count occurrences\n",
    "all_affiliations = [affiliation for sublist in affiliations for affiliation in sublist.split(', ')]\n",
    "affiliation_counts = Counter(all_affiliations)\n",
    "\n",
    "# Find the most common affiliation\n",
    "most_common_affiliation, count = affiliation_counts.most_common(1)[0]\n",
    "print(f\"The most repeated affiliation is {most_common_affiliation} and it was repeated {count} times.\")"
   ]
  }
 ],
 "metadata": {
  "kernelspec": {
   "display_name": "Python 3",
   "language": "python",
   "name": "python3"
  },
  "language_info": {
   "codemirror_mode": {
    "name": "ipython",
    "version": 3
   },
   "file_extension": ".py",
   "mimetype": "text/x-python",
   "name": "python",
   "nbconvert_exporter": "python",
   "pygments_lexer": "ipython3",
   "version": "3.11.5"
  }
 },
 "nbformat": 4,
 "nbformat_minor": 2
}
